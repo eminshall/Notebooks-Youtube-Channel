{
 "cells": [
  {
   "cell_type": "code",
   "execution_count": null,
   "id": "a4a446b9",
   "metadata": {},
   "outputs": [],
   "source": [
    "!pip install transformers\n",
    "conda install -c \"conda-forge/label/cf202003\" pypdf2"
   ]
  },
  {
   "cell_type": "code",
   "execution_count": 1,
   "id": "510ad935",
   "metadata": {},
   "outputs": [],
   "source": [
    "from transformers import pipeline\n",
    "import requests\n",
    "from PyPDF2 import PdfFileReader"
   ]
  },
  {
   "cell_type": "code",
   "execution_count": 5,
   "id": "4a427bb9",
   "metadata": {},
   "outputs": [],
   "source": [
    "raw_file = r'C:\\Users\\evere\\Videos\\YouTube\\Untitled Folder\\JPM-2017-MachineLearningInvestments.pdf'\n",
    "open_file = open(raw_file, 'rb')\n",
    "pdf = PdfFileReader(open_file)"
   ]
  },
  {
   "cell_type": "code",
   "execution_count": 6,
   "id": "be5d9533",
   "metadata": {},
   "outputs": [],
   "source": [
    "num_pages = pdf.getNumPages()"
   ]
  },
  {
   "cell_type": "code",
   "execution_count": 8,
   "id": "d895b6c2",
   "metadata": {},
   "outputs": [],
   "source": [
    "TEXT = ''\n",
    "for pages in range(num_pages):\n",
    "    page = pdf.getPage(pages)\n",
    "    text = text + ' ' + page.extractText()"
   ]
  },
  {
   "cell_type": "code",
   "execution_count": 9,
   "id": "eb2dca11",
   "metadata": {},
   "outputs": [],
   "source": [
    "summarizer = pipeline('summarization', model='sshleifer/distilbart-cnn-12-6')"
   ]
  },
  {
   "cell_type": "code",
   "execution_count": null,
   "id": "91987b91",
   "metadata": {},
   "outputs": [],
   "source": [
    "TEXT = ''' '''"
   ]
  },
  {
   "cell_type": "code",
   "execution_count": 10,
   "id": "51d4e2c6",
   "metadata": {},
   "outputs": [],
   "source": [
    "max_chunk = 500\n",
    "\n",
    "TEXT = TEXT.replace('.','.<eos>')\n",
    "sentences = TEXT.split('<eos>')"
   ]
  },
  {
   "cell_type": "code",
   "execution_count": 11,
   "id": "424a7f84",
   "metadata": {},
   "outputs": [
    {
     "name": "stdout",
     "output_type": "stream",
     "text": [
      "0\n"
     ]
    },
    {
     "data": {
      "text/plain": [
       "1"
      ]
     },
     "execution_count": 11,
     "metadata": {},
     "output_type": "execute_result"
    }
   ],
   "source": [
    "current_chunk = 0 \n",
    "chunks = []\n",
    "for sentence in sentences:\n",
    "    if len(chunks) == current_chunk + 1: \n",
    "        if len(chunks[current_chunk]) + len(sentence.split(' ')) <= max_chunk:\n",
    "            chunks[current_chunk].extend(sentence.split(' '))\n",
    "        else:\n",
    "            current_chunk += 1\n",
    "            chunks.append(sentence.split(' '))\n",
    "    else:\n",
    "        print(current_chunk)\n",
    "        chunks.append(sentence.split(' '))\n",
    "\n",
    "for chunk_id in range(len(chunks)):\n",
    "    chunks[chunk_id] = ' '.join(chunks[chunk_id])\n",
    "\n",
    "len(chunks)"
   ]
  },
  {
   "cell_type": "code",
   "execution_count": 12,
   "id": "b9dd6b21",
   "metadata": {},
   "outputs": [
    {
     "name": "stderr",
     "output_type": "stream",
     "text": [
      "Your max_length is set to 120, but you input_length is only 3. You might consider decreasing max_length manually, e.g. summarizer('...', max_length=1)\n"
     ]
    }
   ],
   "source": [
    "results = summarizer(chunks, max_length=120, min_length=30, do_sample=False)"
   ]
  },
  {
   "cell_type": "code",
   "execution_count": 13,
   "id": "24b00902",
   "metadata": {},
   "outputs": [
    {
     "data": {
      "text/plain": [
       "{'summary_text': ' CNN.com will feature iReporter photos in a weekly Travel Snapshots gallery . Please submit your best shots of our featured destinations for next week . Visit CNN iReport.com/Travel next Wednesday for a new gallery of snapshots .'}"
      ]
     },
     "execution_count": 13,
     "metadata": {},
     "output_type": "execute_result"
    }
   ],
   "source": [
    "results[0]"
   ]
  },
  {
   "cell_type": "code",
   "execution_count": 14,
   "id": "2412b5a2",
   "metadata": {},
   "outputs": [],
   "source": [
    "text = ' '.join([summ['summary_text'] for summ in results])"
   ]
  },
  {
   "cell_type": "code",
   "execution_count": 15,
   "id": "1ba2c9ee",
   "metadata": {},
   "outputs": [],
   "source": [
    "with open('blogsummary.txt', 'w') as f:\n",
    "    f.write(text)"
   ]
  },
  {
   "cell_type": "code",
   "execution_count": null,
   "id": "23929779",
   "metadata": {},
   "outputs": [],
   "source": []
  }
 ],
 "metadata": {
  "kernelspec": {
   "display_name": "Python 3 (ipykernel)",
   "language": "python",
   "name": "python3"
  },
  "language_info": {
   "codemirror_mode": {
    "name": "ipython",
    "version": 3
   },
   "file_extension": ".py",
   "mimetype": "text/x-python",
   "name": "python",
   "nbconvert_exporter": "python",
   "pygments_lexer": "ipython3",
   "version": "3.9.12"
  }
 },
 "nbformat": 4,
 "nbformat_minor": 5
}

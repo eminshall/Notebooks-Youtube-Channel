{
  "nbformat": 4,
  "nbformat_minor": 0,
  "metadata": {
    "colab": {
      "provenance": [],
      "authorship_tag": "ABX9TyN1CIpXogCwloEX4fwFC91Z",
      "include_colab_link": true
    },
    "kernelspec": {
      "name": "python3",
      "display_name": "Python 3"
    },
    "language_info": {
      "name": "python"
    }
  },
  "cells": [
    {
      "cell_type": "markdown",
      "metadata": {
        "id": "view-in-github",
        "colab_type": "text"
      },
      "source": [
        "<a href=\"https://colab.research.google.com/github/eminshall/Notebooks-Youtube-Channel/blob/main/Monte_Carlo_with_ARIMA_Forecasting.ipynb\" target=\"_parent\"><img src=\"https://colab.research.google.com/assets/colab-badge.svg\" alt=\"Open In Colab\"/></a>"
      ]
    },
    {
      "cell_type": "code",
      "execution_count": null,
      "metadata": {
        "id": "TqnnEnXOJ0T4"
      },
      "outputs": [],
      "source": [
        "from datetime import datetime, date, timedelta\n",
        "from statsmodels.tsa.arima.model import ARIMA\n",
        "import datetime\n",
        "\n",
        "symbol = 'CVX'\n",
        "end = date.today()\n",
        "start = end - datetime.timedelta(days = 7*365)\n",
        "\n",
        "\n",
        "# gets the closing price fo Netflix for the past 7 years\n",
        "my_stock = yf.Ticker(symbol)\n",
        "my_stock = pd.DataFrame(my_stock.history(start = start, end = end)['Close'])\n",
        "my_stock = my_stock.rename(str.lower, axis = 'columns')\n",
        "\n",
        "# distribution for Monte Carlo simulation\n",
        "my_stock_resid_distr_fitting = my_stock[-200:]\n",
        "my_stock_train = my_stock[~my_stock.isin(my_stock_resid_distr_fitting).all(1)]\n",
        "my_stock_test = my_stock_resid_distr_fitting[-100:]\n",
        "my_stock_resid_distr_fitting = my_stock_resid_distr_fitting[~my_stock_resid_distr_fitting.isin(my_stock_test).all(1)]\n",
        "\n",
        "# plots the my_stock weekly closing price over the past 5 years\n",
        "plt.plot(my_stock.index, my_stock.close)\n",
        "plt.title('Daily Closing Price: Past 7 Years')\n",
        "plt.xlabel('Date')\n",
        "plt.ylabel('Closing Share Price')\n",
        "plt.show()"
      ]
    },
    {
      "cell_type": "code",
      "source": [
        "# plots the ACF for the entire train period\n",
        "pd.plotting.autocorrelation_plot(my_stock_train.close)\n",
        "plt.show()"
      ],
      "metadata": {
        "id": "RuG-Ue0MJ5sW"
      },
      "execution_count": null,
      "outputs": []
    },
    {
      "cell_type": "code",
      "source": [
        "# plots the ACF for the differenced data over the entire train period\n",
        "pd.plotting.autocorrelation_plot(my_stock_train.close.diff().dropna())"
      ],
      "metadata": {
        "id": "ThkoRYbEJ7oK"
      },
      "execution_count": null,
      "outputs": []
    },
    {
      "cell_type": "code",
      "source": [
        "from statsmodels.tsa.stattools import adfuller\n",
        "\n",
        "# performs ADF tests with no constant, a constant, and a constant plus linear trend on\n",
        "for i in ['n', 'c', 'ct']:\n",
        "    result = adfuller(my_stock_train.close, regression = i)\n",
        "    print(f'ADF Statistic with %s for Closing {symbol} price: %f' % (i, result[0]))\n",
        "    print('p-value: %f' % result[1])\n",
        "    print('')\n",
        "\n",
        "# performs ADF tests with no constant, a constant, and a constant plus linear trend on\n",
        "# differenced 'symbol' closing share prices\n",
        "for i in ['n', 'c', 'ct']:\n",
        "    result = adfuller(my_stock_train.close.diff().dropna(), regression = i)\n",
        "    print(f'ADF Statistic with %s for Differenced Closing {symbol} price: %f' % (i, result[0]))\n",
        "    print('p-value: %f' % result[1])\n",
        "    print('')"
      ],
      "metadata": {
        "id": "1R65WfN1J95Y"
      },
      "execution_count": null,
      "outputs": []
    },
    {
      "cell_type": "code",
      "source": [
        "history = np.log(my_stock_train.astype(float))\n",
        "history = history.asfreq('d')\n",
        "\n",
        "# fits the ARIMA model\n",
        "my_stock_arima = ARIMA(np.log(my_stock_train.astype(float)), order = (1, 1, 1))\n",
        "my_stock_arima_fit = my_stock_arima.fit()\n",
        "print(my_stock_arima_fit.summary())\n",
        "\n",
        "# plot residual errors of the training data\n",
        "residuals = pd.DataFrame(my_stock_arima_fit.resid[2:])\n",
        "residuals.plot()\n",
        "plt.show()\n",
        "residuals.plot(kind='kde')\n",
        "plt.show()\n",
        "print(residuals.describe())"
      ],
      "metadata": {
        "id": "7GXYLxWoKFHM"
      },
      "execution_count": null,
      "outputs": []
    },
    {
      "cell_type": "code",
      "source": [
        "# creates a new dataframe that will be added to as the forecast rolls\n",
        "history = np.log(my_stock_train.astype(float))\n",
        "history.asfreq('d')\n",
        "# creates an empty list that will hold predictions\n",
        "predictions = []\n",
        "# loops through the indexes of the set being forecased\n",
        "for i in range(len(my_stock_resid_distr_fitting)):\n",
        "    # estimates an ARIMA model of order (1,1,1)\n",
        "    model = ARIMA(history, order = (1,1,1))\n",
        "    # fits the model\n",
        "    model_fit = model.fit()\n",
        "    # forecasts the next period\n",
        "    output = model_fit.forecast()\n",
        "    # takes the predicted value and saves it in yhat\n",
        "    yhat = np.e ** output.iloc[0]\n",
        "    # appends yhat to the list of predictions\n",
        "    predictions.append(yhat)\n",
        "    # grabs the observation at the ith index\n",
        "    obs = my_stock_resid_distr_fitting[i : i + 1]\n",
        "    # appends the observation to the estimation data set\n",
        "    history = pd.concat([history,np.log(obs.astype(float))])\n",
        "\n",
        "# prints the MSE of the model for the rolling forecast period\n",
        "error = mean_squared_error(my_stock_resid_distr_fitting, predictions)\n",
        "print('Test MSE: %.3f' % error)\n",
        "\n",
        "# converts the predictions list to a pandas dataframe with the same index as the actual values\n",
        "# for plotting purposes\n",
        "predictions = pd.DataFrame(predictions)\n",
        "predictions.index = my_stock_resid_distr_fitting.index\n",
        "\n",
        "# plots the predicted and actual stock prices\n",
        "plt.plot(my_stock_resid_distr_fitting, color = 'blue')\n",
        "plt.plot(predictions, color = 'red')\n",
        "plt.xlabel('Date')\n",
        "plt.ylabel('Dollars')\n",
        "plt.title('Predicted vs. Actual Closing Weekly Stock Price')\n",
        "plt.show()"
      ],
      "metadata": {
        "id": "Ef5wVO5vKKtw"
      },
      "execution_count": null,
      "outputs": []
    },
    {
      "cell_type": "code",
      "source": [
        "# plots the residuals\n",
        "tune_residuals = my_stock_resid_distr_fitting.close - predictions[0]\n",
        "tune_residuals.plot(kind = 'kde')"
      ],
      "metadata": {
        "id": "SjlIGGCEKRKD"
      },
      "execution_count": null,
      "outputs": []
    },
    {
      "cell_type": "code",
      "source": [
        "from fitter import Fitter\n",
        "\n",
        "f = Fitter(tune_residuals)\n",
        "f.fit()\n",
        "f.summary()"
      ],
      "metadata": {
        "id": "-wQaBmq9KS70"
      },
      "execution_count": null,
      "outputs": []
    },
    {
      "cell_type": "code",
      "source": [
        "warnings.filterwarnings('ignore')\n",
        "# creates a function to do MC simulation with a Laplacian distribution\n",
        "def laplace_monte_carlo(mean, residuals, n_sims):\n",
        "    # gets the estimated beta or mean absolute distance from the mean\n",
        "    beta = (sum(abs(residuals - np.mean(residuals)))\n",
        "                           / len(residuals))\n",
        "    # uses the numpy function to generate an array of simulated values\n",
        "    est_range = np.random.laplace(mean, beta, n_sims)\n",
        "    # converts the array to a list\n",
        "    est_range = list(est_range)\n",
        "    # returns the simulated values\n",
        "    return(est_range)\n",
        "\n",
        "def roll_forecast_nmc(train, test, std_dev, n_sims):\n",
        "    # creates a new dataframe that will be added to as the forecast rolls\n",
        "    history = np.log(train.astype(float))\n",
        "    # creates an empty list that will hold predictions\n",
        "    predictions = []\n",
        "    # loops through the indexes of the set being forecased\n",
        "    for i in range(len(test)):\n",
        "        # estimates an ARIMA model of order (1,1,0)\n",
        "        model = ARIMA(endog=history, order = (1,1,1))\n",
        "        # fits the model\n",
        "        model_fit = model.fit()\n",
        "        # forecasts the next period\n",
        "        output = model_fit.forecast()\n",
        "        # takes the predicted value and saves it in yhat\n",
        "        yhat = np.e ** output.iloc[0]\n",
        "        # performs monte carlo simulation using the predicted price as the mean, user-specified\n",
        "        # standard deviation, and number of simulations\n",
        "        yhat_range = laplace_monte_carlo(yhat, std_dev, n_sims)\n",
        "        # appends yhat_range to the list of predictions\n",
        "        predictions.append([float(i) for i in yhat_range])\n",
        "        # grabs the observation at the ith index\n",
        "        obs = test[i : i + 1]\n",
        "        # appends the observation to the estimation data set\n",
        "        history = pd.concat([history, np.log(obs.astype(float))])\n",
        "\n",
        "    # converts the predictions list to a pandas dataframe with the same index as the actual\n",
        "    # values for plotting purposes\n",
        "    predictions = pd.DataFrame(predictions)\n",
        "    predictions.index = my_stock_resid_distr_fitting.index\n",
        "    # converts all the estimated yhats in each column to one list per row\n",
        "    predictions['predicted_range'] = predictions.values.tolist()\n",
        "    # grabs only the column with all values in a list\n",
        "    predictions = pd.DataFrame(predictions['predicted_range'])\n",
        "\n",
        "    # returns predictions\n",
        "    return(predictions)\n",
        "\n",
        "# attaches the data withheld for investigating the forecast residuals back to the training\n",
        "# data set to avoid a large error on the first forecast\n",
        "my_stock_train = pd.concat([my_stock_train, my_stock_resid_distr_fitting])\n",
        "\n",
        "tune_residuals = arima_model.resid.dropna()\n",
        "# produces a rolling forecast with prediction intervals using 1000 MC sims\n",
        "test_preds = roll_forecast_nmc(my_stock_train,\n",
        "                               my_stock_test,\n",
        "                               tune_residuals,\n",
        "                              1000)\n",
        "\n",
        "\n",
        "# creates an empty list\n",
        "in_prediction_interval = []\n",
        "# loops through the rows in the testing data set\n",
        "for i in range(len(my_stock_test)):\n",
        "    # appends true if the actual price is in the interval of predicted prices and false\n",
        "    # otherwise\n",
        "    in_prediction_interval.append(np.where(min(test_preds.predicted_range[i]) <=\n",
        "                                           my_stock_test.close[i]\n",
        "                                          <= max(test_preds.predicted_range[i]),\n",
        "                                           True, False))\n",
        "# prints the percentage of actual prices in the prediction intervals\n",
        "print('Percentage of Actual Stock Prices in Predicted Stock Price Range: %f' %\n",
        "      (100 * sum(in_prediction_interval) / len(in_prediction_interval)))\n",
        "\n",
        "min_range = []\n",
        "max_range = []\n",
        "\n",
        "# loops through the rows in test_preds\n",
        "for i in range(len(test_preds)):\n",
        "    # appends to the list the min or max value as appropriate\n",
        "    min_range.append(min(test_preds.predicted_range[i]))\n",
        "    max_range.append(max(test_preds.predicted_range[i]))\n",
        "\n",
        "# converts the lists to data frames and makes their indexes match up with the dates they're\n",
        "# predicting\n",
        "min_range = pd.DataFrame(min_range)\n",
        "min_range.index = my_stock_test.index\n",
        "max_range = pd.DataFrame(max_range)\n",
        "max_range.index = my_stock_test.index\n",
        "\n",
        "# plots the actual stock price with prediction intervals\n",
        "plt.plot(my_stock_test[:], color = 'blue')\n",
        "plt.plot(min_range[:], color = 'red')\n",
        "plt.plot(max_range[:], color = 'red')\n",
        "plt.xlabel('Date')\n",
        "plt.ylabel('Dollars')\n",
        "plt.title('Actual Closing Weekly Stock Price with Prediction Intervals')\n",
        "plt.show()"
      ],
      "metadata": {
        "id": "ydHRITqPKWxi"
      },
      "execution_count": null,
      "outputs": []
    },
    {
      "cell_type": "markdown",
      "source": [
        "#Consider Supporting Me\n",
        "\n",
        "Making theses videos takes time and effort. Contributions from viewers like you help support my channel and avoid the need for promoting a Patreon, sponsors, or selling a course. Click the link and choose any amount you'd like. Thank you.\n",
        "\n",
        "https://ko-fi.com/minshallsfi"
      ],
      "metadata": {
        "id": "1zCv5JBaLaZz"
      }
    },
    {
      "cell_type": "code",
      "source": [],
      "metadata": {
        "id": "FwJ6Z6j4LbfN"
      },
      "execution_count": null,
      "outputs": []
    }
  ]
}
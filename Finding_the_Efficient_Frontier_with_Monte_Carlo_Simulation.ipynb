{
  "nbformat": 4,
  "nbformat_minor": 0,
  "metadata": {
    "colab": {
      "provenance": [],
      "authorship_tag": "ABX9TyM2rbGin+dtcWixictOZoqZ",
      "include_colab_link": true
    },
    "kernelspec": {
      "name": "python3",
      "display_name": "Python 3"
    },
    "language_info": {
      "name": "python"
    }
  },
  "cells": [
    {
      "cell_type": "markdown",
      "metadata": {
        "id": "view-in-github",
        "colab_type": "text"
      },
      "source": [
        "<a href=\"https://colab.research.google.com/github/eminshall/Notebooks-Youtube-Channel/blob/main/Finding_the_Efficient_Frontier_with_Monte_Carlo_Simulation.ipynb\" target=\"_parent\"><img src=\"https://colab.research.google.com/assets/colab-badge.svg\" alt=\"Open In Colab\"/></a>"
      ]
    },
    {
      "cell_type": "code",
      "execution_count": null,
      "metadata": {
        "id": "8KRXIKJhbX_r"
      },
      "outputs": [],
      "source": [
        "import yfinance as yf\n",
        "import numpy as np\n",
        "import pandas as pd"
      ]
    },
    {
      "cell_type": "code",
      "source": [
        "n_portfolios = 10 ** 5\n",
        "n_days = 252\n",
        "assets = []\n",
        "assets.sort()\n",
        "n_assets = len(assets)\n",
        "\n",
        "start_date = '2024-01-01'\n",
        "end_date = '2024-12-31'"
      ],
      "metadata": {
        "id": "44RNNFhhbrfW"
      },
      "execution_count": null,
      "outputs": []
    },
    {
      "cell_type": "code",
      "source": [
        "df = yf.download(assets,\n",
        "                 start = start_date,\n",
        "                 end = end_date)['Close']\n",
        "\n",
        "returns = df.pct_change().dropna()\n",
        "avg_returns = returns.mean() * n_days\n",
        "cov_matrix = returns.cov() * n_days"
      ],
      "metadata": {
        "id": "iYk5DPLGb388"
      },
      "execution_count": null,
      "outputs": []
    },
    {
      "cell_type": "code",
      "source": [
        "np.random.seed(42)\n",
        "weights = np.random.random(size=(n_portfolios, n_assets))\n",
        "weights /= np.sum(weights, axis=1)[:, np.newaxis]"
      ],
      "metadata": {
        "id": "piGdNFOBcZhG"
      },
      "execution_count": null,
      "outputs": []
    },
    {
      "cell_type": "code",
      "source": [
        "portf_returns = np.dot(weights, avg_returns)\n",
        "\n",
        "portf_vol = []\n",
        "for i in range(0, len(weights)):\n",
        "  vol = np.sqrt(\n",
        "      np.dot(weights[i].T, np.dot(cov_matrix, weights[i]))\n",
        "  )\n",
        "  portf_vol.append(vol)\n",
        "\n",
        "portf_vol - np.array(portf_vol)\n",
        "\n",
        "portf_sharpe = portf_returns / portf_vol"
      ],
      "metadata": {
        "id": "tMbKEaSNcuRt"
      },
      "execution_count": null,
      "outputs": []
    },
    {
      "cell_type": "code",
      "source": [
        "portf_results = pd.DataFrame({\n",
        "    'Returns': portf_returns,\n",
        "    'Volatility': portf_vol,\n",
        "    'Sharpe Ratio': portf_sharpe\n",
        "})"
      ],
      "metadata": {
        "id": "0Bq2TBYQdTuT"
      },
      "execution_count": null,
      "outputs": []
    },
    {
      "cell_type": "code",
      "source": [
        "n_points = 100\n",
        "\n",
        "ef_return_list = []\n",
        "ef_vol_list = []\n",
        "\n",
        "possible_ef_return = np.linspace(\n",
        "    portf_results['Returns'].min(),\n",
        "    portf_results['Returns'].max(),\n",
        "    n_points)\n",
        "\n",
        "possible_ef_return = np.round(possible_ef_return, 2)\n",
        "portf_returns = np.round(portf_returns, 2)\n",
        "\n",
        "for rtn in possible_ef_return:\n",
        "  if rtn in portf_returns:\n",
        "    ef_return_list.append(rtn)\n",
        "    matched_ind = np.where(portf_returns == rtn)\n",
        "    ef_vol_list.append(np.min(portf_vol[matched_ind]))"
      ],
      "metadata": {
        "id": "XbnSzM6LdnUE"
      },
      "execution_count": null,
      "outputs": []
    },
    {
      "cell_type": "code",
      "source": [
        "markers = ['o','x','d','*']\n",
        "\n",
        "fig, ax = plt.subplots()\n",
        "portf_results_df.plot(kind='scatter',x='volatility',y='returns',c='sharpe_ratio',\n",
        "                      cmap='RdYlGn', edgecolors='black', ax=ax)\n",
        "ax.set(xlabel='Volatility', ylabel='Expected Returns', title='Efficient Frontier')\n",
        "ax.plot(ef_vol_list, ef_return_list, 'b--')\n",
        "for asset_index in range(n_assets):\n",
        "  ax.scatter(x=np.sqrt(cov_matrix.iloc[asset_index, asset_index]),\n",
        "             y=avg_returns[asset_index],\n",
        "             marker=markers[asset_index],\n",
        "             s=150, color='black', label=assets[asset_index])\n",
        "ax.legend()\n",
        "plt.show()"
      ],
      "metadata": {
        "id": "AbOfXq5PeapG"
      },
      "execution_count": null,
      "outputs": []
    },
    {
      "cell_type": "code",
      "source": [
        "max_sharpe_ind = np.argmax(portf_results['Sharpe Ratio'])\n",
        "max_sharpe_portf = portf_results.iloc[max_sharpe_ind]\n",
        "\n",
        "min_vol_ind = np.argmin(portf_results['Volatility'])\n",
        "min_vol_portf = portf_results.iloc[min_vol_ind]"
      ],
      "metadata": {
        "id": "TIe-1_OJeaB1"
      },
      "execution_count": null,
      "outputs": []
    },
    {
      "cell_type": "code",
      "source": [
        "fig, ax = plt.subplots()\n",
        "portf_results_df.plot(kind='scatter',x='volatility',y='returns',c='sharpe_ratio',\n",
        "                      cmap='RdYlGn', edgecolors='black', ax=ax)\n",
        "ax.scatter(x=max_sharpe_port['volatility'],y=max_sharpe_portf['returns'],\n",
        "           c='black', marker='*',s=200,label='Max Sharpe')\n",
        "ax.scatter(x=min_vol_portf['volatility'],y=min_vol_portf['returns'],\n",
        "           c='black', marker='x',s=200,label='Min Volatility')\n",
        "ax.set(xlabel='Volatility', ylabel='Expected Returns', title='Efficient Frontier')\n",
        "ax.legend()\n",
        "plt.show()"
      ],
      "metadata": {
        "id": "47H4hiYOjYQn"
      },
      "execution_count": null,
      "outputs": []
    },
    {
      "cell_type": "code",
      "source": [],
      "metadata": {
        "id": "DRK5ZzERj1Q1"
      },
      "execution_count": null,
      "outputs": []
    }
  ]
}
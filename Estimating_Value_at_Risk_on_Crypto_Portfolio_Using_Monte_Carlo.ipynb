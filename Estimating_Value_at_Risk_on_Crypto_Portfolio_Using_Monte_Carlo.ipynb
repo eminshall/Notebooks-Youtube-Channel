{
  "nbformat": 4,
  "nbformat_minor": 0,
  "metadata": {
    "colab": {
      "provenance": [],
      "authorship_tag": "ABX9TyO7pvffxzxMLpljrplhhxIS",
      "include_colab_link": true
    },
    "kernelspec": {
      "name": "python3",
      "display_name": "Python 3"
    },
    "language_info": {
      "name": "python"
    }
  },
  "cells": [
    {
      "cell_type": "markdown",
      "metadata": {
        "id": "view-in-github",
        "colab_type": "text"
      },
      "source": [
        "<a href=\"https://colab.research.google.com/github/eminshall/Notebooks-Youtube-Channel/blob/main/Estimating_Value_at_Risk_on_Crypto_Portfolio_Using_Monte_Carlo.ipynb\" target=\"_parent\"><img src=\"https://colab.research.google.com/assets/colab-badge.svg\" alt=\"Open In Colab\"/></a>"
      ]
    },
    {
      "cell_type": "code",
      "execution_count": null,
      "metadata": {
        "id": "z3BXrYE9JwXF"
      },
      "outputs": [],
      "source": [
        "import numpy as np\n",
        "import pandas as pd\n",
        "import yfinance as yf\n",
        "import matplotlib.pyplot as plt\n",
        "import seaborn as sns"
      ]
    },
    {
      "cell_type": "code",
      "source": [
        "risky_assets = ['BTC-USD','ETH-USD','BNB-USD']\n",
        "share = [1,5,5]\n",
        "start = '2024-01-01'\n",
        "end = '2024-12-31'\n",
        "T = 1\n",
        "n_sims = 10**5"
      ],
      "metadata": {
        "id": "bU4C8zLXJ5UO"
      },
      "execution_count": null,
      "outputs": []
    },
    {
      "cell_type": "code",
      "source": [
        "df = yf.download(risky_assets,start=start,end=end)['Close']\n",
        "\n",
        "returns = df['Close'].pct_change().dropna()\n",
        "returns.plot(title='Exxon and Chevron daily stock returns in 2024')"
      ],
      "metadata": {
        "id": "YvDAOrEBNmvU"
      },
      "execution_count": null,
      "outputs": []
    },
    {
      "cell_type": "code",
      "source": [
        "# Create a covariance matrix\n",
        "cov_mat = returns.cov()"
      ],
      "metadata": {
        "id": "L4mdO6nrOxB5"
      },
      "execution_count": null,
      "outputs": []
    },
    {
      "cell_type": "code",
      "source": [
        "# Cholesky decomposition of covariance returns\n",
        "chol_mat = np.linalg.cholesky(cov_mat)"
      ],
      "metadata": {
        "id": "mgqBcgdmO0Zx"
      },
      "execution_count": null,
      "outputs": []
    },
    {
      "cell_type": "code",
      "source": [
        "# Draw the correlated random numbers from the Standard Normal Distribution\n",
        "rv = np.random.normal(size=(n_sims, len(risky_assets)))\n",
        "correlated_rv = np.transpose(np.matmul(chol_mat, np.transpose(rv)))"
      ],
      "metadata": {
        "id": "D3CUIlQlPF_H"
      },
      "execution_count": null,
      "outputs": []
    },
    {
      "cell_type": "code",
      "source": [
        "# Simulate price with monte carlo\n",
        "r = np.mean(returns, axis=0).values\n",
        "sigma = np.std(returns, axis=0).values\n",
        "s_0 = df['Close'].values[-1, :]\n",
        "p_0 = np.sum(share * s_0)\n",
        "\n",
        "s_t = s_0 * np.exp((r - 0.5 * sigma ** 2) * T + sigma * np.sqrt(T) * correlated_rv)\n",
        "p_t = np.sum(share * s_t, axis=1)\n",
        "p_diff = p_t - p_0"
      ],
      "metadata": {
        "id": "Y8s1pdy9PlaB"
      },
      "execution_count": null,
      "outputs": []
    },
    {
      "cell_type": "code",
      "source": [
        "p_diff_sorted = np.sort(p_diff)\n",
        "percentiles = [0.01, 0.1, 1.0]\n",
        "var = np.percentile(p_diff, q=percentiles)\n",
        "\n",
        "for x, y in zip(percentiles, var):\n",
        "  print(f'1-Day VaR with {100-x}% Confidence: ${-y: .2f}')"
      ],
      "metadata": {
        "id": "jNkZxJqrQx4I"
      },
      "execution_count": null,
      "outputs": []
    },
    {
      "cell_type": "code",
      "source": [
        "ax = sns.distplot(p_diff, kde=False)\n",
        "ax.set_title('Distribution of possible 1-Day Changes in Portfolio Value 1-Day 99% VaR')\n",
        "ax.axvline(var[2],0,10000)"
      ],
      "metadata": {
        "id": "09XS3pzvS4R1"
      },
      "execution_count": null,
      "outputs": []
    }
  ]
}